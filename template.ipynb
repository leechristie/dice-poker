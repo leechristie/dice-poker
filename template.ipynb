{
 "cells": [
  {
   "cell_type": "markdown",
   "source": [
    "If Jupyter doesn't find the Dice Poker package, try uncommenting this:"
   ],
   "metadata": {
    "collapsed": false
   }
  },
  {
   "cell_type": "code",
   "execution_count": null,
   "outputs": [],
   "source": [
    "#import sys\n",
    "#sys.path.extend(['./'])"
   ],
   "metadata": {
    "collapsed": false
   }
  },
  {
   "cell_type": "markdown",
   "source": [
    "# Import Dice Poker Package"
   ],
   "metadata": {
    "collapsed": false
   }
  },
  {
   "cell_type": "code",
   "execution_count": null,
   "outputs": [],
   "source": [
    "from dicepoker import *"
   ],
   "metadata": {
    "collapsed": false
   }
  },
  {
   "cell_type": "markdown",
   "source": [
    "# Create Your Dice Poker AI"
   ],
   "metadata": {
    "collapsed": false
   }
  },
  {
   "cell_type": "code",
   "execution_count": null,
   "outputs": [],
   "source": [
    "class UntitledBot(Player):\n",
    "\n",
    "    def name(self) -> str:\n",
    "\n",
    "        # replace with a custom AI bot name\n",
    "        return 'Untitled Bot'\n",
    "\n",
    "    def accept_raise_stakes(self,\n",
    "                            current_stakes: int,\n",
    "                            available_money: int,\n",
    "                            my_hand: Hand,\n",
    "                            opponent_hand: Hand) -> bool:\n",
    "\n",
    "        # we can compare our current hand to the opponent\n",
    "        if my_hand >= opponent_hand:\n",
    "\n",
    "            # accept the raise - we're winning so far\n",
    "            return True\n",
    "\n",
    "        else:\n",
    "\n",
    "            # don't accept the raise - we're probably losing this round\n",
    "            return False\n",
    "\n",
    "    def choose_dice_to_reroll(self,\n",
    "                              current_stakes: int,\n",
    "                              available_money: int,\n",
    "                              my_hand: Hand,\n",
    "                              opponent_hand: Hand) -> List[int]:\n",
    "\n",
    "        if my_hand == Ranking.NOTHING:\n",
    "\n",
    "            # we have a bad hand, so just reroll everything\n",
    "            return list(my_hand)\n",
    "\n",
    "        if my_hand == Ranking.FOUR_OF_A_KIND:\n",
    "\n",
    "            # when the ranking is 4-of-a-kind, e.g. 2, 2, 3, 2, 2, the detail will give 2, 3 that is the\n",
    "            # number which is a set of four followed by the unmatched die (3)\n",
    "            matched_four, the_other_die = my_hand.detail\n",
    "\n",
    "            # we will reroll the other die\n",
    "            return [the_other_die]\n",
    "\n",
    "        # default case, we don't reroll anything\n",
    "        return []"
   ],
   "metadata": {
    "collapsed": false
   }
  },
  {
   "cell_type": "markdown",
   "source": [
    "# Profile AI"
   ],
   "metadata": {
    "collapsed": false
   }
  },
  {
   "cell_type": "code",
   "execution_count": null,
   "outputs": [],
   "source": [
    "# create instance of bot\n",
    "our_bot = UntitledBot()\n",
    "\n",
    "# generates a report to test the bot\n",
    "result = profile_player(our_bot,\n",
    "                        verbose=True,\n",
    "                        roll_samples=100,\n",
    "                        reroll_samples=100)"
   ],
   "metadata": {
    "collapsed": false
   }
  }
 ],
 "metadata": {
  "kernelspec": {
   "display_name": "Python 3",
   "language": "python",
   "name": "python3"
  },
  "language_info": {
   "codemirror_mode": {
    "name": "ipython",
    "version": 2
   },
   "file_extension": ".py",
   "mimetype": "text/x-python",
   "name": "python",
   "nbconvert_exporter": "python",
   "pygments_lexer": "ipython2",
   "version": "2.7.6"
  }
 },
 "nbformat": 4,
 "nbformat_minor": 0
}
